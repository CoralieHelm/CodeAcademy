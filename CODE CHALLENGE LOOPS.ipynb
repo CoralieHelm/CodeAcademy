{
 "cells": [
  {
   "cell_type": "markdown",
   "metadata": {},
   "source": [
    "## Divisible by Ten\n",
    "\n",
    "Create a function named divisible_by_ten() that takes a list of numbers named nums as a parameter.\n",
    "\n",
    "Return the count of how many numbers in the list are divisible by 10."
   ]
  },
  {
   "cell_type": "code",
   "execution_count": 2,
   "metadata": {},
   "outputs": [
    {
     "name": "stdout",
     "output_type": "stream",
     "text": [
      "3\n"
     ]
    }
   ],
   "source": [
    "#Write your function here\n",
    "def divisible_by_ten(nums):\n",
    "  count = 0\n",
    "  for num in nums:\n",
    "    if num % 10 == 0:\n",
    "      count += 1\n",
    "  return count\n",
    "\n",
    "\n",
    "#Uncomment the line below when your function is done\n",
    "print(divisible_by_ten([20, 25, 30, 35, 40]))"
   ]
  },
  {
   "cell_type": "markdown",
   "metadata": {},
   "source": [
    "## Greetings\n",
    " \n",
    "Create a function named add_greetings() which takes a list of strings named names as a parameter.\n",
    "\n",
    "In the function, create an empty list that will contain each greeting. Add the string \"Hello, \" in front of each name in names and append the greeting to the list.\n",
    "\n",
    "Return the new list containing the greetings.\n",
    "\n",
    "\n"
   ]
  },
  {
   "cell_type": "code",
   "execution_count": 4,
   "metadata": {},
   "outputs": [
    {
     "name": "stdout",
     "output_type": "stream",
     "text": [
      "['Hello, Owen', 'Hello, Max', 'Hello, Sophie']\n"
     ]
    }
   ],
   "source": [
    "#Write your function here\n",
    "def add_greetings(names):\n",
    "  greeting = []\n",
    "  for name in names:\n",
    "    greeting.append((\"Hello, \" + name))\n",
    "  return greeting\n",
    "\n",
    "#Uncomment the line below when your function is done\n",
    "print(add_greetings([\"Owen\", \"Max\", \"Sophie\"]))"
   ]
  },
  {
   "cell_type": "markdown",
   "metadata": {},
   "source": [
    "## Delete Starting Even Numbers \n",
    "\n",
    "Create a function named odd_indices() that has one parameter named lst.\n",
    "\n",
    "The function should create a new empty list and add every element from lst that has an odd index. The function should then return this new list.\n",
    "\n",
    "For example, odd_indices([4, 3, 7, 10, 11, -2]) should return the list [3, 10, -2]."
   ]
  },
  {
   "cell_type": "markdown",
   "metadata": {},
   "source": [
    "Create a function named exponents() that takes two lists as parameters named bases and powers. Return a new list containing every number in bases raised to every number in powers."
   ]
  },
  {
   "cell_type": "markdown",
   "metadata": {},
   "source": [
    "## Odd Indices               \n",
    "\n",
    "Create a function named odd_indices() that has one parameter named lst.\n",
    "\n",
    "The function should create a new empty list and add every element from lst that has an odd index. The function should then return this new list.\n",
    "\n",
    "For example, odd_indices([4, 3, 7, 10, 11, -2]) should return the list [3, 10, -2]."
   ]
  },
  {
   "cell_type": "code",
   "execution_count": 2,
   "metadata": {},
   "outputs": [
    {
     "name": "stdout",
     "output_type": "stream",
     "text": [
      "[3, 10, -2]\n"
     ]
    }
   ],
   "source": [
    "#Write your function here\n",
    "def odd_indices(lst):\n",
    "  new_list = []\n",
    "  for index in range(1, len(lst), 2):\n",
    "    new_list.append(lst[index])\n",
    "  return new_list\n",
    "\n",
    "\n",
    "#Uncomment the line below when your function is done\n",
    "print(odd_indices([4, 3, 7, 10, 11, -2]))"
   ]
  },
  {
   "cell_type": "markdown",
   "metadata": {},
   "source": [
    "## Exponents\n",
    "\n",
    "Create a function named exponents() that takes two lists as parameters named bases and powers. Return a new list containing every number in bases raised to every number in powers.\n",
    "\n",
    "It would first add two to the first. Then two to the second. Then two to the third, and so on."
   ]
  },
  {
   "cell_type": "code",
   "execution_count": 3,
   "metadata": {},
   "outputs": [
    {
     "name": "stdout",
     "output_type": "stream",
     "text": [
      "[2, 4, 8, 3, 9, 27, 4, 16, 64]\n"
     ]
    }
   ],
   "source": [
    "#Write your function here\n",
    "def exponents(bases, powers):\n",
    "  new_list = []\n",
    "  for base in bases:\n",
    "    for power in powers:\n",
    "      new_list.append((base ** power))\n",
    "  return new_list\n",
    "\n",
    "\n",
    "#Uncomment the line below when your function is done\n",
    "print(exponents([2, 3, 4], [1, 2, 3]))"
   ]
  },
  {
   "cell_type": "markdown",
   "metadata": {},
   "source": [
    "## Larger Sum\n",
    "\n",
    "Create a function named larger_sum() that takes two lists of numbers as parameters named lst1 and lst2.\n",
    "\n",
    "The function should return the list whose elements sum to the greater number. If the sum of the elements of each list are equal, return lst1."
   ]
  },
  {
   "cell_type": "code",
   "execution_count": 4,
   "metadata": {},
   "outputs": [
    {
     "name": "stdout",
     "output_type": "stream",
     "text": [
      "[1, 9, 5]\n"
     ]
    }
   ],
   "source": [
    "#Write your function here\n",
    "def larger_sum(lst1, lst2):\n",
    "  lst1_sum = 0\n",
    "  lst2_sum = 0\n",
    "  for item in lst1:\n",
    "    lst1_sum += item\n",
    "  for item in lst2:\n",
    "    lst2_sum += item\n",
    "  if lst1_sum >= lst2_sum:\n",
    "    return lst1\n",
    "  else:\n",
    "    return lst2\n",
    "\n",
    "#Uncomment the line below when your function is done\n",
    "print(larger_sum([1, 9, 5], [2, 3, 7]))"
   ]
  },
  {
   "cell_type": "markdown",
   "metadata": {},
   "source": [
    "## Over 9000\n",
    "\n",
    "Create a function named over_nine_thousand() that takes a list of numbers named lst as a parameter.\n",
    "\n",
    "The function should sum the elements of the list until the sum is greater than 9000. When this happens, the function should return the sum. If the sum of all of the elements is never greater than 9000, the function should return total sum of all the elements. If the list is empty, the function should return 0.\n"
   ]
  },
  {
   "cell_type": "code",
   "execution_count": 5,
   "metadata": {},
   "outputs": [
    {
     "name": "stdout",
     "output_type": "stream",
     "text": [
      "9020\n",
      "210\n"
     ]
    }
   ],
   "source": [
    "#Write your function here\n",
    "def over_nine_thousand(lst):\n",
    "  lst_sum = 0\n",
    "  if lst_sum < 9000:\n",
    "    for item in lst:\n",
    "      lst_sum += item\n",
    "      if lst_sum > 9000:\n",
    "        break\n",
    "    return lst_sum\n",
    "  elif len(lst) == 0:\n",
    "    return 0\n",
    "\n",
    "\n",
    "\n",
    "\n",
    "#Uncomment the line below when your function is done\n",
    "print(over_nine_thousand([8000, 900, 120, 5000]))\n",
    "print(over_nine_thousand([89,32,34,43,12]))"
   ]
  },
  {
   "cell_type": "markdown",
   "metadata": {},
   "source": [
    "## Max Num\n",
    "\n",
    "\n",
    "\n",
    "Create a function named max_num() that takes a list of numbers named nums as a parameter.\n",
    "\n",
    "The function should return the largest number in nums"
   ]
  },
  {
   "cell_type": "code",
   "execution_count": 6,
   "metadata": {},
   "outputs": [
    {
     "name": "stdout",
     "output_type": "stream",
     "text": [
      "75\n"
     ]
    }
   ],
   "source": [
    "#Write your function here\n",
    "def max_num(nums):\n",
    "  largest_num = nums[0]\n",
    "  for num in nums:\n",
    "    if num > largest_num:\n",
    "      largest_num = num\n",
    "  return largest_num\n",
    "\n",
    "#Uncomment the line below when your function is done\n",
    "print(max_num([50, -10, 0, 75, 20]))"
   ]
  },
  {
   "cell_type": "markdown",
   "metadata": {},
   "source": [
    "## Same Values\n",
    "\n",
    "Write a function named same_values() that takes two lists of numbers of equal size as parameters.\n",
    "\n",
    "The function should return a list of the indices where the values were equal in lst1 and lst2."
   ]
  },
  {
   "cell_type": "code",
   "execution_count": 7,
   "metadata": {},
   "outputs": [
    {
     "name": "stdout",
     "output_type": "stream",
     "text": [
      "[0, 2, 3]\n"
     ]
    }
   ],
   "source": [
    "#Write your function here\n",
    "def same_values(lst1, lst2):\n",
    "  new_list = []\n",
    "  for index in range(len(lst1)):\n",
    "      if lst1[index] == lst2[index]:\n",
    "        new_list.append(index)\n",
    "  return new_list\n",
    "      \n",
    "\n",
    "#Uncomment the line below when your function is done\n",
    "print(same_values([5, 1, -10, 3, 3], [5, 10, -10, 3, 5]))"
   ]
  },
  {
   "cell_type": "markdown",
   "metadata": {},
   "source": [
    "## Reversed List\n",
    "\n",
    "Create a function named reversed_list() that takes two lists of the same size as parameters named lst1 and lst2.\n",
    "\n",
    "The function should return True if lst1 is the same as lst2 reversed. The function should return False otherwise.\n",
    "\n",
    "For example, reversed_list([1, 2, 3], [3, 2, 1]) should return True."
   ]
  },
  {
   "cell_type": "code",
   "execution_count": 8,
   "metadata": {},
   "outputs": [
    {
     "name": "stdout",
     "output_type": "stream",
     "text": [
      "True\n",
      "False\n"
     ]
    }
   ],
   "source": [
    "#Write your function here\n",
    "def reversed_list(lst1, lst2):\n",
    "  if lst1 == sorted(lst2, reverse = False):\n",
    "    return True\n",
    "  else:\n",
    "    return False\n",
    "\n",
    "#Uncomment the lines below when your function is done\n",
    "print(reversed_list([1, 2, 3], [3, 2, 1]))\n",
    "print(reversed_list([1, 5, 3], [3, 2, 1]))"
   ]
  },
  {
   "cell_type": "code",
   "execution_count": null,
   "metadata": {},
   "outputs": [],
   "source": []
  }
 ],
 "metadata": {
  "kernelspec": {
   "display_name": "Python 3",
   "language": "python",
   "name": "python3"
  },
  "language_info": {
   "codemirror_mode": {
    "name": "ipython",
    "version": 3
   },
   "file_extension": ".py",
   "mimetype": "text/x-python",
   "name": "python",
   "nbconvert_exporter": "python",
   "pygments_lexer": "ipython3",
   "version": "3.7.6"
  },
  "toc": {
   "base_numbering": 1,
   "nav_menu": {},
   "number_sections": true,
   "sideBar": true,
   "skip_h1_title": false,
   "title_cell": "Table of Contents",
   "title_sidebar": "Contents",
   "toc_cell": false,
   "toc_position": {},
   "toc_section_display": true,
   "toc_window_display": false
  }
 },
 "nbformat": 4,
 "nbformat_minor": 4
}
