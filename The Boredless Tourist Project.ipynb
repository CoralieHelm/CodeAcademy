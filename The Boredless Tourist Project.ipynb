{
 "cells": [
  {
   "cell_type": "markdown",
   "metadata": {},
   "source": [
    "# BUILD A TOURISM RECOMMENDATION ENGINE\n",
    "\n",
    "\"Welcome to The Boredless Tourist, an online application giving you the power to find the parts of the city that fit the pace of your life. We at The Boredless Tourist run a recommendation engine using Python. We first evaluate what a person’s interests are and then give them recommendations in their area to venues, restaurants, and historical destinations that we think they’ll be engaged by.\"\n",
    "\n",
    "\n"
   ]
  },
  {
   "cell_type": "code",
   "execution_count": 1,
   "metadata": {},
   "outputs": [],
   "source": [
    "destinations = [\n",
    "\"Paris, France\",\n",
    "\"Shanghai, China\",\n",
    "\"Los Angeles, USA\",\n",
    "\"São Paulo, Brazil\",\n",
    "\"Cairo, Egypt\",\n",
    "]"
   ]
  },
  {
   "cell_type": "code",
   "execution_count": 3,
   "metadata": {},
   "outputs": [],
   "source": [
    "test_traveler = ['Erin Wilkes', 'Shanghai, China', ['historical site', 'art']]"
   ]
  },
  {
   "cell_type": "markdown",
   "metadata": {},
   "source": [
    "\n",
    "In the body of get_destination_index(), find the index of destination and save the results into a variable called destination_index."
   ]
  },
  {
   "cell_type": "code",
   "execution_count": 27,
   "metadata": {},
   "outputs": [],
   "source": [
    "def get_destination_index(destination):\n",
    "  try:\n",
    "    destination_index = destinations.index(destination)\n",
    "    return destination_index\n",
    "  except Exception as e:\n",
    "        return \"An error has occured. The destination is not listed\""
   ]
  },
  {
   "cell_type": "code",
   "execution_count": 23,
   "metadata": {},
   "outputs": [
    {
     "name": "stdout",
     "output_type": "stream",
     "text": [
      "0\n"
     ]
    }
   ],
   "source": [
    "Paris = get_destination_index(\"Paris, France\")\n",
    "print(Paris)"
   ]
  },
  {
   "cell_type": "code",
   "execution_count": 28,
   "metadata": {},
   "outputs": [
    {
     "name": "stdout",
     "output_type": "stream",
     "text": [
      "An error has occured. The destination is not listed\n"
     ]
    }
   ],
   "source": [
    "Hyderabad = get_destination_index(\"Hyderabad, India\")\n",
    "print(Hyderabad)"
   ]
  },
  {
   "cell_type": "markdown",
   "metadata": {},
   "source": [
    "Now let’s define a function called get_traveler_location().\n",
    "\n",
    "get_traveler_location() is going to take a single parameter, traveler.\n",
    "\n",
    "In the body of get_traveler_location(), access the traveler’s destination string and save it into traveler_destination."
   ]
  },
  {
   "cell_type": "code",
   "execution_count": 29,
   "metadata": {},
   "outputs": [],
   "source": [
    "def get_traveler_location(traveler):\n",
    "  traveler_destination = traveler[1]\n",
    "  return traveler_destination"
   ]
  },
  {
   "cell_type": "code",
   "execution_count": 31,
   "metadata": {},
   "outputs": [
    {
     "name": "stdout",
     "output_type": "stream",
     "text": [
      "Shanghai, China\n"
     ]
    }
   ],
   "source": [
    "test = get_traveler_location(test_traveler)\n",
    "print(test)"
   ]
  },
  {
   "cell_type": "markdown",
   "metadata": {},
   "source": [
    "\n",
    "Use traveler_destination along with get_destination_index() to retrieve the index of the destination where the traveler is. Save the index of the traveler’s destination into the variable traveler_destination_index."
   ]
  },
  {
   "cell_type": "code",
   "execution_count": 34,
   "metadata": {},
   "outputs": [
    {
     "name": "stdout",
     "output_type": "stream",
     "text": [
      "1\n"
     ]
    }
   ],
   "source": [
    "def get_traveler_location(traveler):\n",
    "  traveler_destination = traveler[1]\n",
    "  traveler_destination_index = get_destination_index(traveler_destination)\n",
    "  return traveler_destination_index\n",
    "\n",
    "test_destination_index = get_traveler_location(test_traveler)\n",
    "print(test_destination_index)"
   ]
  },
  {
   "cell_type": "markdown",
   "metadata": {},
   "source": []
  }
 ],
 "metadata": {
  "kernelspec": {
   "display_name": "Python 3",
   "language": "python",
   "name": "python3"
  },
  "language_info": {
   "codemirror_mode": {
    "name": "ipython",
    "version": 3
   },
   "file_extension": ".py",
   "mimetype": "text/x-python",
   "name": "python",
   "nbconvert_exporter": "python",
   "pygments_lexer": "ipython3",
   "version": "3.7.6"
  },
  "toc": {
   "base_numbering": 1,
   "nav_menu": {},
   "number_sections": true,
   "sideBar": true,
   "skip_h1_title": false,
   "title_cell": "Table of Contents",
   "title_sidebar": "Contents",
   "toc_cell": false,
   "toc_position": {},
   "toc_section_display": true,
   "toc_window_display": false
  }
 },
 "nbformat": 4,
 "nbformat_minor": 4
}
