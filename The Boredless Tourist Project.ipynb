{
 "cells": [
  {
   "cell_type": "markdown",
   "metadata": {},
   "source": [
    "# BUILD A TOURISM RECOMMENDATION ENGINE\n",
    "\n",
    "\"Welcome to The Boredless Tourist, an online application giving you the power to find the parts of the city that fit the pace of your life. We at The Boredless Tourist run a recommendation engine using Python. We first evaluate what a person’s interests are and then give them recommendations in their area to venues, restaurants, and historical destinations that we think they’ll be engaged by.\"\n",
    "\n",
    "\n"
   ]
  },
  {
   "cell_type": "code",
   "execution_count": 1,
   "metadata": {},
   "outputs": [],
   "source": [
    "destinations = [\n",
    "\"Paris, France\",\n",
    "\"Shanghai, China\",\n",
    "\"Los Angeles, USA\",\n",
    "\"São Paulo, Brazil\",\n",
    "\"Cairo, Egypt\",\n",
    "]"
   ]
  },
  {
   "cell_type": "code",
   "execution_count": 3,
   "metadata": {},
   "outputs": [],
   "source": [
    "test_traveler = ['Erin Wilkes', 'Shanghai, China', ['historical site', 'art']]"
   ]
  },
  {
   "cell_type": "markdown",
   "metadata": {},
   "source": [
    "\n",
    "In the body of get_destination_index(), find the index of destination and save the results into a variable called destination_index."
   ]
  },
  {
   "cell_type": "code",
   "execution_count": 27,
   "metadata": {},
   "outputs": [],
   "source": [
    "def get_destination_index(destination):\n",
    "  try:\n",
    "    destination_index = destinations.index(destination)\n",
    "    return destination_index\n",
    "  except Exception as e:\n",
    "        return \"An error has occured. The destination is not listed\""
   ]
  },
  {
   "cell_type": "code",
   "execution_count": 23,
   "metadata": {},
   "outputs": [
    {
     "name": "stdout",
     "output_type": "stream",
     "text": [
      "0\n"
     ]
    }
   ],
   "source": [
    "Paris = get_destination_index(\"Paris, France\")\n",
    "print(Paris)"
   ]
  },
  {
   "cell_type": "code",
   "execution_count": 28,
   "metadata": {},
   "outputs": [
    {
     "name": "stdout",
     "output_type": "stream",
     "text": [
      "An error has occured. The destination is not listed\n"
     ]
    }
   ],
   "source": [
    "Hyderabad = get_destination_index(\"Hyderabad, India\")\n",
    "print(Hyderabad)"
   ]
  },
  {
   "cell_type": "markdown",
   "metadata": {},
   "source": [
    "Now let’s define a function called get_traveler_location().\n",
    "\n",
    "get_traveler_location() is going to take a single parameter, traveler.\n",
    "\n",
    "In the body of get_traveler_location(), access the traveler’s destination string and save it into traveler_destination."
   ]
  },
  {
   "cell_type": "code",
   "execution_count": 29,
   "metadata": {},
   "outputs": [],
   "source": [
    "def get_traveler_location(traveler):\n",
    "  traveler_destination = traveler[1]\n",
    "  return traveler_destination"
   ]
  },
  {
   "cell_type": "code",
   "execution_count": 31,
   "metadata": {},
   "outputs": [
    {
     "name": "stdout",
     "output_type": "stream",
     "text": [
      "Shanghai, China\n"
     ]
    }
   ],
   "source": [
    "test = get_traveler_location(test_traveler)\n",
    "print(test)"
   ]
  },
  {
   "cell_type": "markdown",
   "metadata": {},
   "source": [
    "\n",
    "Use traveler_destination along with get_destination_index() to retrieve the index of the destination where the traveler is. Save the index of the traveler’s destination into the variable traveler_destination_index."
   ]
  },
  {
   "cell_type": "code",
   "execution_count": 34,
   "metadata": {},
   "outputs": [
    {
     "name": "stdout",
     "output_type": "stream",
     "text": [
      "1\n"
     ]
    }
   ],
   "source": [
    "def get_traveler_location(traveler):\n",
    "  traveler_destination = traveler[1]\n",
    "  traveler_destination_index = get_destination_index(traveler_destination)\n",
    "  return traveler_destination_index\n",
    "\n",
    "test_destination_index = get_traveler_location(test_traveler)\n",
    "print(test_destination_index)"
   ]
  },
  {
   "cell_type": "markdown",
   "metadata": {},
   "source": [
    "\n",
    "Now we want to create and maintain a list of attractions. Let’s start by defining a list called attractions.\n",
    "Actually, we want attractions to be an empty list for every destination in destinations."
   ]
  },
  {
   "cell_type": "code",
   "execution_count": 50,
   "metadata": {},
   "outputs": [],
   "source": [
    "attractions = [ [] for destination in destinations]"
   ]
  },
  {
   "cell_type": "code",
   "execution_count": 51,
   "metadata": {},
   "outputs": [
    {
     "name": "stdout",
     "output_type": "stream",
     "text": [
      "[[], [], [], [], []]\n"
     ]
    }
   ],
   "source": [
    "print(attractions)"
   ]
  },
  {
   "cell_type": "markdown",
   "metadata": {},
   "source": [
    "Now let’s create a function called add_attraction(). This function should take two parameters: destination, the name of the location and attraction, the attraction. First we should attempt to find the index of the destination. Use get_destination_index() with the passed in destination in order to retrieve the index of the destination. Save the results into destination_index. What happens if the destination passed in to add_attraction() doesn’t exist? Right now we want to ignore it.\n",
    "\n",
    "Add a try block to the body of add_attraction() and catch the possible ValueError that could happen when you define destination_index."
   ]
  },
  {
   "cell_type": "code",
   "execution_count": 49,
   "metadata": {},
   "outputs": [
    {
     "name": "stdout",
     "output_type": "stream",
     "text": [
      "[[], [], [['Venice Beach', ['beach']], ['Venice Beach', ['beach']], ['Venice Beach', ['beach']], ['Venice Beach', ['beach']], ['Venice Beach', ['beach']], ['Venice Beach', ['beach']], ['Venice Beach', ['beach']]], [], []]\n"
     ]
    }
   ],
   "source": [
    "def add_attractions(destination, attraction):\n",
    "  try:\n",
    "    destination_index = get_destination_index(destination)\n",
    "  except Exception as e:\n",
    "    return \"Error occured\"\n",
    "  "
   ]
  },
  {
   "cell_type": "markdown",
   "metadata": {},
   "source": [
    "\n",
    "If the destination does exist, then we already have a list for it in attractions. Use the destination_index to find the appropriate list in attractions and save that list to attractions_for_destination.Append the attraction passed into add_attraction to the list attractions_for_destination.\n",
    "\n",
    "That’s all we want this function to do, so we can return after adding the attraction to the list."
   ]
  },
  {
   "cell_type": "code",
   "execution_count": 52,
   "metadata": {},
   "outputs": [
    {
     "name": "stdout",
     "output_type": "stream",
     "text": [
      "[[], [], [['Venice Beach', ['beach']]], [], []]\n"
     ]
    }
   ],
   "source": [
    "def add_attractions(destination, attraction):\n",
    "  try:\n",
    "    destination_index = get_destination_index(destination)\n",
    "    attractions_for_destination = attractions[destination_index].append(attraction)\n",
    "  except Exception as e:\n",
    "    return \n",
    "\n",
    "add_attractions(\"Los Angeles, USA\", ['Venice Beach', ['beach']])\n",
    "print(attractions)"
   ]
  },
  {
   "cell_type": "markdown",
   "metadata": {},
   "source": [
    "Let’s add a few more interesting places to go, paste the following code to add a few more attractions:\n",
    "\n",
    "add_attraction(\"Paris, France\", [\"the Louvre\", [\"art\", \"museum\"]])\n",
    "\n",
    "add_attraction(\"Paris, France\", [\"Arc de Triomphe\", [\"historical site\", \"monument\"]])\n",
    "\n",
    "add_attraction(\"Shanghai, China\", [\"Yu Garden\", [\"garden\", \"historcical site\"]])\n",
    "\n",
    "add_attraction(\"Shanghai, China\", [\"Yuz Museum\", [\"art\", \"museum\"]])\n",
    "\n",
    "add_attraction(\"Shanghai, China\", [\"Oriental Pearl Tower\", [\"skyscraper\", \"viewing deck\"]])\n",
    "\n",
    "add_attraction(\"Los Angeles, USA\", [\"LACMA\", [\"art\", \"museum\"]])\n",
    "\n",
    "add_attraction(\"São Paulo, Brazil\", [\"São Paulo Zoo\", [\"zoo\"]])\n",
    "\n",
    "add_attraction(\"São Paulo, Brazil\", [\"Pátio do Colégio\", [\"historical site\"]])\n",
    "\n",
    "add_attraction(\"Cairo, Egypt\", [\"Pyramids of Giza\", [\"monument\", \"historical site\"]])\n",
    "\n",
    "add_attraction(\"Cairo, Egypt\", [\"Egyptian Museum\", [\"museum\"]])"
   ]
  },
  {
   "cell_type": "code",
   "execution_count": 62,
   "metadata": {},
   "outputs": [],
   "source": [
    "add_attractions(\"Paris, France\", [\"the Louvre\", [\"art\", \"museum\"]])\n",
    "add_attractions(\"Paris, France\", [\"Arc de Triomphe\", [\"historical site\", \"monument\"]])\n",
    "add_attractions(\"Shanghai, China\", [\"Yu Garden\", [\"garden\", \"historcical site\"]])\n",
    "add_attractions(\"Shanghai, China\", [\"Yuz Museum\", [\"art\", \"museum\"]])\n",
    "add_attractions(\"Shanghai, China\", [\"Oriental Pearl Tower\", [\"skyscraper\", \"viewing deck\"]])\n",
    "add_attractions(\"Los Angeles, USA\", [\"LACMA\", [\"art\", \"museum\"]])\n",
    "add_attractions(\"São Paulo, Brazil\", [\"São Paulo Zoo\", [\"zoo\"]])\n",
    "add_attractions(\"São Paulo, Brazil\", [\"Pátio do Colégio\", [\"historical site\"]])\n",
    "add_attractions(\"Cairo, Egypt\", [\"Pyramids of Giza\", [\"monument\", \"historical site\"]])\n",
    "add_attractions(\"Cairo, Egypt\", [\"Egyptian Museum\", [\"museum\"]])"
   ]
  },
  {
   "cell_type": "code",
   "execution_count": 77,
   "metadata": {},
   "outputs": [
    {
     "name": "stdout",
     "output_type": "stream",
     "text": [
      "[[['the Louvre', ['art', 'museum']], ['Arc de Triomphe', ['historical site', 'monument']], ['the Louvre', ['art', 'museum']], ['Arc de Triomphe', ['historical site', 'monument']]], [['Yu Garden', ['garden', 'historcical site']], ['Yuz Museum', ['art', 'museum']], ['Oriental Pearl Tower', ['skyscraper', 'viewing deck']], ['Yu Garden', ['garden', 'historcical site']], ['Yuz Museum', ['art', 'museum']], ['Oriental Pearl Tower', ['skyscraper', 'viewing deck']]], [['Venice Beach', ['beach']], ['LACMA', ['art', 'museum']], ['LACMA', ['art', 'museum']]], [['São Paulo Zoo', ['zoo']], ['Pátio do Colégio', ['historical site']], ['São Paulo Zoo', ['zoo']], ['Pátio do Colégio', ['historical site']]], [['Pyramids of Giza', ['monument', 'historical site']], ['Egyptian Museum', ['museum']], ['Pyramids of Giza', ['monument', 'historical site']], ['Egyptian Museum', ['museum']]]]\n"
     ]
    }
   ],
   "source": [
    "print(attractions)"
   ]
  },
  {
   "cell_type": "markdown",
   "metadata": {},
   "source": [
    "We want to be able to help our traveler’s find the most interesting places in a new city for them. In order to do that we need to match their interests with the possible locations in a city.\n",
    "\n",
    "Write a function called find_attractions() that takes two parameters: destination, the name of the destination and interests, a list of interests.\n",
    "We’ll need the city’s destination_index to look up its attractions in our attractions table.\n",
    "\n",
    "Create a variable called destination_index and save the destination’s index to it using get_destination_index()"
   ]
  },
  {
   "cell_type": "code",
   "execution_count": 56,
   "metadata": {},
   "outputs": [],
   "source": [
    "def find_attractions(destination, interests):\n",
    "  destination_index = get_destination_index(destination)"
   ]
  },
  {
   "cell_type": "markdown",
   "metadata": {},
   "source": [
    "Look up that destination’s attractions by indexing into attractions with destination_index. Save this into the variable attractions_in_city."
   ]
  },
  {
   "cell_type": "code",
   "execution_count": 57,
   "metadata": {},
   "outputs": [],
   "source": [
    "def find_attractions(destination, interests):\n",
    "  destination_index = get_destination_index(destination)\n",
    "  attractions_in_city = attractions[destination_index]\n",
    "  "
   ]
  },
  {
   "cell_type": "markdown",
   "metadata": {},
   "source": [
    "Create a new list called attractions_with_interest. Make it empty when declaring it, we’ll save attractions into this list if they match one of our interests."
   ]
  },
  {
   "cell_type": "code",
   "execution_count": 64,
   "metadata": {},
   "outputs": [],
   "source": [
    "attractions_with_interest = []"
   ]
  },
  {
   "cell_type": "markdown",
   "metadata": {},
   "source": [
    "\n",
    "Create a loop over attractions_in_city saving each item in the list into the temporary variable possible_attraction.\n",
    "\n",
    "For each attraction, retrieve the tagged information about it. The tags are all saved in the second place (index 1) in the attraction. In the body of the for loop, save the attraction’s tags into the variable attraction_tags."
   ]
  },
  {
   "cell_type": "code",
   "execution_count": 87,
   "metadata": {},
   "outputs": [],
   "source": [
    "def find_attractions(destination, interests):\n",
    "  destination_index = get_destination_index(destination)\n",
    "  attractions_in_city = attractions[destination_index]\n",
    "  attractions_with_interest = []\n",
    "  for attraction in attractions_in_city:\n",
    "    possible_attraction = attraction\n",
    "    attraction_tags = possible_attraction[1]"
   ]
  },
  {
   "cell_type": "markdown",
   "metadata": {},
   "source": [
    "\n",
    "After retrieving the attraction tags, we want to see if any of the given interests are in attraction_tags. In order to do this, we’re going to loop through the interests and check if any of them are in attraction_tags.\n",
    "\n",
    "Create a for loop in the body of the current for loop to loop through each interest in interests.\n",
    "\n",
    "For every interest in interests, check if that interest is in attraction_tags.\n",
    "\n",
    "If the interest is in the attraction_tags, append possible_attraction to attractions_with_interest."
   ]
  },
  {
   "cell_type": "code",
   "execution_count": 84,
   "metadata": {},
   "outputs": [
    {
     "name": "stdout",
     "output_type": "stream",
     "text": [
      "[['LACMA', ['art', 'museum']], ['LACMA', ['art', 'museum']]]\n"
     ]
    }
   ],
   "source": [
    "\n",
    "def find_attractions(destination, interests):\n",
    "  destination_index = get_destination_index(destination)\n",
    "  attractions_in_city = attractions[destination_index]\n",
    "  attractions_with_interest = []\n",
    "\n",
    "  for attraction in attractions_in_city:\n",
    "    possible_attraction = attraction\n",
    "    attraction_tags = attraction[1]\n",
    "\n",
    "    for interest in interests:\n",
    "      if interest in attraction_tags:\n",
    "        attractions_with_interest.append(possible_attraction)\n",
    "  return attractions_with_interest\n",
    "\n",
    "la_arts = find_attractions(\"Los Angeles, USA\", [\"art\"])\n",
    "print(la_arts)\n"
   ]
  },
  {
   "cell_type": "markdown",
   "metadata": {},
   "source": [
    "We don’t want to show the tags to our users when we recommend things to them, so let’s just append the name of each attraction.\n",
    "\n",
    "In the body of find_attractions(), find where you append possible_attraction to attractions_with_interest. Change this so you only append possible_attraction[0] which will only append the name."
   ]
  },
  {
   "cell_type": "code",
   "execution_count": 86,
   "metadata": {},
   "outputs": [
    {
     "name": "stdout",
     "output_type": "stream",
     "text": [
      "['LACMA', 'LACMA']\n"
     ]
    }
   ],
   "source": [
    "def find_attractions(destination, interests):\n",
    "  destination_index = get_destination_index(destination)\n",
    "  attractions_in_city = attractions[destination_index]\n",
    "  attractions_with_interest = []\n",
    "\n",
    "  for attraction in attractions_in_city:\n",
    "    possible_attraction = attraction\n",
    "    attraction_tags = attraction[1]\n",
    "\n",
    "    for interest in interests:\n",
    "      if interest in attraction_tags:\n",
    "        attractions_with_interest.append(possible_attraction[0])\n",
    "  return attractions_with_interest\n",
    "\n",
    "la_arts = find_attractions(\"Los Angeles, USA\", [\"art\"])\n",
    "print(la_arts)\n"
   ]
  },
  {
   "cell_type": "markdown",
   "metadata": {},
   "source": [
    "Now let’s get to the main event, connecting people with the attractions that they are interested in.\n",
    "\n",
    "Define a function called get_attractions_for_traveler() that takes a single parameter, traveler.\n",
    "\n",
    "Let’s separate out the traveler’s data. Save the following data:\n",
    "\n",
    "Save traveler[1] into a variable called traveler_destination.\n",
    "\n",
    "Save traveler[2] into a variable called traveler_interests."
   ]
  },
  {
   "cell_type": "code",
   "execution_count": 88,
   "metadata": {},
   "outputs": [],
   "source": [
    "def get_attractions_for_traveler(traveler):\n",
    "  traveler_destination = traveler[1]\n",
    "  traveler_interests  = traveler[2]"
   ]
  },
  {
   "cell_type": "markdown",
   "metadata": {},
   "source": [
    "\n",
    "Call find_attractions() with the two arguments traveler_destination and traveler_interests. Save the results into traveler_attractions."
   ]
  },
  {
   "cell_type": "code",
   "execution_count": 89,
   "metadata": {},
   "outputs": [],
   "source": [
    "def get_attractions_for_traveler(traveler):\n",
    "  traveler_destination = traveler[1]\n",
    "  traveler_interests  = traveler[2]\n",
    "  traveler_attractions = find_attractions(traveler_destination, traveler_interests)\n"
   ]
  },
  {
   "cell_type": "markdown",
   "metadata": {},
   "source": [
    "Create a new string, this is what we’ll want to show our traveler when they open our application:\n",
    "\n",
    "\"Hi Dorothy Bortman, we think you'll like these places around Seattle, USA: the SAM, the Pike Place Market.\"\n",
    "Start with the beginning, just \"Hi \" (with a space afterwards).\n",
    "\n",
    "Save \"Hi \" into a variable called interests_string.\n",
    "\n",
    "\n",
    "Update interests_string to include the name of the traveler. The traveler’s name can be found at traveler[0]. “Add” this to interests_string so that it includes the name of the traveler.\n",
    "\n",
    "We’ll want to add a little more to the interests_string before we list the interests. Add the following:\n",
    "\n",
    "This string:\n",
    "\", we think you'll like these places around \"\n",
    "The place\n",
    "\n",
    "\n",
    "Lastly, we want to add the names of the places to go! Loop through traveler_attractions and for every attraction in the list concatenate that attraction to interests_string. You can add commas and spaces to interests_string to make it more legible as well.\n",
    "\n",
    "\n",
    "After you’re finished adding all the names of the interests, return interests_string"
   ]
  },
  {
   "cell_type": "code",
   "execution_count": null,
   "metadata": {},
   "outputs": [],
   "source": []
  },
  {
   "cell_type": "markdown",
   "metadata": {},
   "source": [
    "\n",
    "Let’s give it a test drive! Try calling get_attractions_for_traveler() with the following argument:\n",
    "\n",
    "['Dereck Smill', 'Paris, France', ['monument']]\n",
    "Save the results of get_attractions_for_traveler() into the variable smills_france."
   ]
  },
  {
   "cell_type": "code",
   "execution_count": 109,
   "metadata": {},
   "outputs": [
    {
     "ename": "TypeError",
     "evalue": "object of type 'NoneType' has no len()",
     "output_type": "error",
     "traceback": [
      "\u001b[1;31m---------------------------------------------------------------------------\u001b[0m",
      "\u001b[1;31mTypeError\u001b[0m                                 Traceback (most recent call last)",
      "\u001b[1;32m<ipython-input-109-970b1a0d45b6>\u001b[0m in \u001b[0;36m<module>\u001b[1;34m\u001b[0m\n\u001b[0;32m     13\u001b[0m \u001b[1;33m\u001b[0m\u001b[0m\n\u001b[0;32m     14\u001b[0m \u001b[1;33m\u001b[0m\u001b[0m\n\u001b[1;32m---> 15\u001b[1;33m \u001b[0msmills_france\u001b[0m \u001b[1;33m=\u001b[0m \u001b[0mget_attractions_for_traveler\u001b[0m\u001b[1;33m(\u001b[0m\u001b[1;33m[\u001b[0m\u001b[1;34m'Dereck Smill'\u001b[0m\u001b[1;33m,\u001b[0m \u001b[1;34m'Paris, France'\u001b[0m\u001b[1;33m,\u001b[0m \u001b[1;33m[\u001b[0m\u001b[1;34m'monument'\u001b[0m\u001b[1;33m]\u001b[0m\u001b[1;33m]\u001b[0m\u001b[1;33m)\u001b[0m\u001b[1;33m\u001b[0m\u001b[1;33m\u001b[0m\u001b[0m\n\u001b[0m\u001b[0;32m     16\u001b[0m \u001b[1;33m\u001b[0m\u001b[0m\n\u001b[0;32m     17\u001b[0m \u001b[0mprint\u001b[0m\u001b[1;33m(\u001b[0m\u001b[0msmills_france\u001b[0m\u001b[1;33m)\u001b[0m\u001b[1;33m\u001b[0m\u001b[1;33m\u001b[0m\u001b[0m\n",
      "\u001b[1;32m<ipython-input-109-970b1a0d45b6>\u001b[0m in \u001b[0;36mget_attractions_for_traveler\u001b[1;34m(traveler)\u001b[0m\n\u001b[0;32m      5\u001b[0m   \u001b[0minterests_string\u001b[0m \u001b[1;33m=\u001b[0m \u001b[1;34m\"Hi {}, we think you'll like these places around {}:\"\u001b[0m\u001b[1;33m.\u001b[0m\u001b[0mformat\u001b[0m\u001b[1;33m(\u001b[0m\u001b[0mtraveler\u001b[0m\u001b[1;33m[\u001b[0m\u001b[1;36m0\u001b[0m\u001b[1;33m]\u001b[0m\u001b[1;33m,\u001b[0m \u001b[0mtraveler\u001b[0m\u001b[1;33m[\u001b[0m\u001b[1;36m1\u001b[0m\u001b[1;33m]\u001b[0m\u001b[1;33m)\u001b[0m\u001b[1;33m\u001b[0m\u001b[1;33m\u001b[0m\u001b[0m\n\u001b[0;32m      6\u001b[0m \u001b[1;33m\u001b[0m\u001b[0m\n\u001b[1;32m----> 7\u001b[1;33m   \u001b[1;32mfor\u001b[0m \u001b[0mi\u001b[0m \u001b[1;32min\u001b[0m \u001b[0mrange\u001b[0m\u001b[1;33m(\u001b[0m\u001b[0mlen\u001b[0m\u001b[1;33m(\u001b[0m\u001b[0mtraveler_attractions\u001b[0m\u001b[1;33m)\u001b[0m\u001b[1;33m)\u001b[0m\u001b[1;33m:\u001b[0m\u001b[1;33m\u001b[0m\u001b[1;33m\u001b[0m\u001b[0m\n\u001b[0m\u001b[0;32m      8\u001b[0m     \u001b[1;32mif\u001b[0m \u001b[0mtraveler_attractions\u001b[0m\u001b[1;33m[\u001b[0m\u001b[1;33m-\u001b[0m\u001b[1;36m1\u001b[0m\u001b[1;33m]\u001b[0m \u001b[1;33m==\u001b[0m \u001b[0mtraveler_attractions\u001b[0m\u001b[1;33m[\u001b[0m\u001b[0mi\u001b[0m\u001b[1;33m]\u001b[0m\u001b[1;33m:\u001b[0m\u001b[1;33m\u001b[0m\u001b[1;33m\u001b[0m\u001b[0m\n\u001b[0;32m      9\u001b[0m       \u001b[0minterests_string\u001b[0m \u001b[1;33m+=\u001b[0m \u001b[1;34m\" the \"\u001b[0m \u001b[1;33m+\u001b[0m \u001b[0mtraveler_attractions\u001b[0m\u001b[1;33m[\u001b[0m\u001b[0mi\u001b[0m\u001b[1;33m]\u001b[0m \u001b[1;33m+\u001b[0m \u001b[1;34m\".\"\u001b[0m\u001b[1;33m\u001b[0m\u001b[1;33m\u001b[0m\u001b[0m\n",
      "\u001b[1;31mTypeError\u001b[0m: object of type 'NoneType' has no len()"
     ]
    }
   ],
   "source": [
    "def get_attractions_for_traveler(traveler):\n",
    "  traveler_destination = traveler[1]\n",
    "  traveler_interests  = traveler[2]\n",
    "  traveler_attractions = find_attractions(traveler_destination, traveler_interests)\n",
    "  interests_string = \"Hi {}, we think you'll like these places around {}:\".format(traveler[0], traveler[1])\n",
    "  \n",
    "  for i in range(len(traveler_attractions)):\n",
    "    if traveler_attractions[-1] == traveler_attractions[i]:\n",
    "      interests_string += \" the \" + traveler_attractions[i] + \".\"\n",
    "    else:\n",
    "      interests_string += \" the \" + traveler_attractions[i] + \", \"\n",
    "  return interests_string\n",
    "\n",
    "\n",
    "smills_france = get_attractions_for_traveler(['Dereck Smill', 'Paris, France', ['monument']])\n",
    "\n",
    "print(smills_france)\n",
    "ross_china = get_attractions_for_traveler([\"Ross Helm\", \"Shanghai, China\", [\"art\"]])\n",
    "print(ross_china)\n",
    "\n"
   ]
  },
  {
   "cell_type": "code",
   "execution_count": null,
   "metadata": {},
   "outputs": [],
   "source": []
  },
  {
   "cell_type": "code",
   "execution_count": null,
   "metadata": {},
   "outputs": [],
   "source": []
  }
 ],
 "metadata": {
  "kernelspec": {
   "display_name": "Python 3",
   "language": "python",
   "name": "python3"
  },
  "language_info": {
   "codemirror_mode": {
    "name": "ipython",
    "version": 3
   },
   "file_extension": ".py",
   "mimetype": "text/x-python",
   "name": "python",
   "nbconvert_exporter": "python",
   "pygments_lexer": "ipython3",
   "version": "3.7.6"
  },
  "toc": {
   "base_numbering": 1,
   "nav_menu": {},
   "number_sections": true,
   "sideBar": true,
   "skip_h1_title": false,
   "title_cell": "Table of Contents",
   "title_sidebar": "Contents",
   "toc_cell": false,
   "toc_position": {},
   "toc_section_display": true,
   "toc_window_display": false
  }
 },
 "nbformat": 4,
 "nbformat_minor": 4
}
